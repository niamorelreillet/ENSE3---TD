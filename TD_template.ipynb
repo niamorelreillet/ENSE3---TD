{
 "cells": [
  {
   "cell_type": "markdown",
   "metadata": {},
   "source": [
    " # Stationary thermal balance of a two-layer corium pool\n",
    "---"
   ]
  },
  {
   "cell_type": "code",
   "execution_count": 18,
   "metadata": {},
   "outputs": [],
   "source": [
    "import sympy\n",
    "import math\n",
    "import numpy as np\n",
    "import matplotlib.pyplot as plt\n",
    "import scipy"
   ]
  },
  {
   "cell_type": "code",
   "execution_count": 19,
   "metadata": {},
   "outputs": [],
   "source": [
    "from math import pi  \n",
    "g = 9.81\n",
    "sigma = 5.67E-08"
   ]
  },
  {
   "cell_type": "markdown",
   "metadata": {},
   "source": [
    "Set decay power and hemisphere radius"
   ]
  },
  {
   "cell_type": "code",
   "execution_count": 20,
   "metadata": {},
   "outputs": [],
   "source": [
    "Pres=14E6\n",
    "R=2"
   ]
  },
  {
   "cell_type": "markdown",
   "metadata": {},
   "source": [
    "## 1. Oxide pool"
   ]
  },
  {
   "cell_type": "markdown",
   "metadata": {},
   "source": [
    "Set $\\rho^{ox},\\lambda^{ox},\\nu^{ox},Cp^{ox},\\beta^{ox},T_{liq}^{ox},H^{ox}$"
   ]
  },
  {
   "cell_type": "code",
   "execution_count": 21,
   "metadata": {},
   "outputs": [],
   "source": [
    "oxide = {\n",
    "      \"rho\":    8191,\n",
    "      \"lambda\": 5.3,\n",
    "      \"nu\":     5.7E-7,\n",
    "      \"Cp\":     533,\n",
    "      \"beta\":   1.05E-4,\n",
    "      \"Tliq\":   2950,\n",
    "      \"H\":      1.5\n",
    "    }"
   ]
  },
  {
   "cell_type": "markdown",
   "metadata": {},
   "source": [
    "Calculate $V^{ox}$, $S_{lat}^{ox}$, $S_{up}^{ox}$"
   ]
  },
  {
   "cell_type": "markdown",
   "metadata": {},
   "source": [
    ">$V^{ox}=\\frac{\\pi}{3}\\left(H^{ox}\\right)^2\\left(3R-H^{ox}\\right)$\n",
    "\n",
    ">$S_{lat}^{ox}=2\\pi R H^{ox}$\n",
    "\n",
    ">$S_{up}^{ox}=\\pi\\left(R^2-\\left(R-H^{ox}\\right)^2\\right)$"
   ]
  },
  {
   "cell_type": "code",
   "execution_count": 22,
   "metadata": {},
   "outputs": [],
   "source": [
    "# write your code!"
   ]
  },
  {
   "cell_type": "markdown",
   "metadata": {},
   "source": [
    "Calculate $Ra_i^{ox}$"
   ]
  },
  {
   "cell_type": "code",
   "execution_count": 23,
   "metadata": {},
   "outputs": [],
   "source": [
    "# write your code!"
   ]
  },
  {
   "cell_type": "markdown",
   "metadata": {},
   "source": [
    "Calculate $Nu^{ox}_{lat}$ based on \"BALI downward\" correlation $Nu^{ox}_{lat}=0.131\\left(Ra_i^{ox}\\right)^{0.25}\\left(\\frac{H^{ox}}{R}\\right)^{0.19}$"
   ]
  },
  {
   "cell_type": "code",
   "execution_count": 24,
   "metadata": {},
   "outputs": [],
   "source": [
    "# write your code!"
   ]
  },
  {
   "cell_type": "markdown",
   "metadata": {},
   "source": [
    "Calculate $Nu^{ox}_{up}$ based on \"BALI upward\" correlation $Nu^{ox}_{up}=0.381\\left(Ra_i^{ox}\\right)^{0.234}$"
   ]
  },
  {
   "cell_type": "code",
   "execution_count": 25,
   "metadata": {},
   "outputs": [],
   "source": [
    "# write your code!"
   ]
  },
  {
   "cell_type": "markdown",
   "metadata": {},
   "source": [
    "Calculate $T^{ox}$"
   ]
  },
  {
   "cell_type": "code",
   "execution_count": 26,
   "metadata": {},
   "outputs": [],
   "source": [
    "# write your code!"
   ]
  },
  {
   "cell_type": "markdown",
   "metadata": {},
   "source": [
    "Calculate $\\phi_{lat}^{ox}$ and $\\phi_{up}^{ox}$"
   ]
  },
  {
   "cell_type": "code",
   "execution_count": 27,
   "metadata": {},
   "outputs": [],
   "source": [
    "# write your code!"
   ]
  },
  {
   "cell_type": "markdown",
   "metadata": {},
   "source": [
    "# 2. Metallic pool"
   ]
  },
  {
   "cell_type": "markdown",
   "metadata": {},
   "source": [
    "Set $\\rho^{met},\\lambda^{met},\\nu^{met},Cp^{met},\\beta^{met},T_{liq}^{met},H^{met}$"
   ]
  },
  {
   "cell_type": "code",
   "execution_count": 28,
   "metadata": {},
   "outputs": [],
   "source": [
    "metal = {\n",
    "      \"rho\":    6899,\n",
    "      \"lambda\": 25,\n",
    "      \"nu\":     5.9E-7,\n",
    "      \"Cp\":     789.5,\n",
    "      \"beta\":   1.11E-4,\n",
    "      \"Tliq\":   1600,\n",
    "      \"H\":      0.9\n",
    "    }"
   ]
  },
  {
   "cell_type": "markdown",
   "metadata": {},
   "source": [
    "Calculate $Pr^{met}$\n",
    "\n",
    "Define function $Ra^{met}\\left[\\Delta T\\right]$ and evaluate it for $\\Delta T=100$K\n",
    "\n",
    "Shall we expect a turbulent or laminar flow?"
   ]
  },
  {
   "cell_type": "code",
   "execution_count": 29,
   "metadata": {},
   "outputs": [],
   "source": [
    "# write your code!"
   ]
  },
  {
   "cell_type": "markdown",
   "metadata": {},
   "source": [
    "Calculate $V^{met}$, $S_{lat}^{met}$, $S_{up}^{met}$ (hint: in order to vary $H^{met}$ later on, do such calculations in a function)"
   ]
  },
  {
   "cell_type": "code",
   "execution_count": 30,
   "metadata": {},
   "outputs": [],
   "source": [
    "# write your code!"
   ]
  },
  {
   "cell_type": "markdown",
   "metadata": {},
   "source": [
    "Consider the Globe&Dropkin (resp. turbulent Chawla&Chan) for upward (resp.lateral ) heat transfer and define the following functions:\n",
    "\n",
    ">$Nu^{met}_{up}\\left[\\Delta T\\right]=0.069\\left(Pr^{met}\\right)^{0.074}\\left(Ra^{met}\\left[\\Delta T\\right]\\right)^{1/3}$\n",
    "\n",
    ">$Nu^{met}_{lat}\\left[\\Delta T\\right]=\\frac{0.16}{\\left(1+\\left(\\frac{0.492}{Pr^{met}}\\right)^{9/16}\\right)^{16/27}}\\left(Ra^{met}\\left[\\Delta T\\right]\\right)^{1/3}$"
   ]
  },
  {
   "cell_type": "code",
   "execution_count": 31,
   "metadata": {},
   "outputs": [],
   "source": [
    "# write your code!"
   ]
  },
  {
   "cell_type": "markdown",
   "metadata": {},
   "source": [
    "## 2.1 Adiabatic top boundary condition"
   ]
  },
  {
   "cell_type": "markdown",
   "metadata": {},
   "source": [
    "Consider an adiabatic boundary at the top of the metal layer <i>i.e.</i> $\\phi^{BC}_{up}=0$\n",
    "\n",
    "Calculate $\\phi_{lat}^{met}$"
   ]
  },
  {
   "cell_type": "code",
   "execution_count": 32,
   "metadata": {},
   "outputs": [],
   "source": [
    "# write your code!"
   ]
  },
  {
   "cell_type": "markdown",
   "metadata": {},
   "source": [
    "Calculate $T^{met}$"
   ]
  },
  {
   "cell_type": "code",
   "execution_count": 33,
   "metadata": {},
   "outputs": [],
   "source": [
    "# write your code!"
   ]
  },
  {
   "cell_type": "markdown",
   "metadata": {},
   "source": [
    "## 2.2 Radiative top boundary condition"
   ]
  },
  {
   "cell_type": "markdown",
   "metadata": {},
   "source": [
    "Consider radiative heat transfer at the top boundary under the simple form $\\phi^{BC}_{up}\\left[T^{met}_{up}\\right]=\\varepsilon_{up}\\sigma\\left(\\left(T^{met}_{up}\\right)^4-\\left(T^{BC}\\right)^4\\right)$ where $\\varepsilon_{up}$ is an \"effective emissivity\" and define the associated function"
   ]
  },
  {
   "cell_type": "code",
   "execution_count": 34,
   "metadata": {},
   "outputs": [],
   "source": [
    "# write your code!"
   ]
  },
  {
   "cell_type": "markdown",
   "metadata": {},
   "source": [
    "Implement an algorithm in order to find $\\left(T^{met},T_{up}^{met}\\right)$"
   ]
  },
  {
   "cell_type": "code",
   "execution_count": 35,
   "metadata": {},
   "outputs": [],
   "source": [
    "# write your code!"
   ]
  },
  {
   "cell_type": "markdown",
   "metadata": {},
   "source": [
    "Calculate $\\left(T^{met},T_{up}^{met},\\phi_{lat}^{met},\\phi_{up}^{met}\\right)$ for $\\varepsilon_{up} = 0.38$ and $T^{BC}=950$K"
   ]
  },
  {
   "cell_type": "code",
   "execution_count": 36,
   "metadata": {},
   "outputs": [],
   "source": [
    "# write your code!"
   ]
  },
  {
   "cell_type": "markdown",
   "metadata": {},
   "source": [
    "## 2.3 Parametric studies"
   ]
  },
  {
   "cell_type": "markdown",
   "metadata": {},
   "source": [
    "### Varying $\\varepsilon_{up}$ and $T^{BC}$"
   ]
  },
  {
   "cell_type": "code",
   "execution_count": 37,
   "metadata": {},
   "outputs": [],
   "source": [
    "# write your code!"
   ]
  },
  {
   "cell_type": "markdown",
   "metadata": {},
   "source": [
    "### Varying $H^{met}$"
   ]
  },
  {
   "cell_type": "code",
   "execution_count": 38,
   "metadata": {},
   "outputs": [],
   "source": [
    "# write your code!"
   ]
  }
 ],
 "metadata": {
  "kernelspec": {
   "display_name": "Python 3",
   "language": "python",
   "name": "python3"
  },
  "language_info": {
   "codemirror_mode": {
    "name": "ipython",
    "version": 3
   },
   "file_extension": ".py",
   "mimetype": "text/x-python",
   "name": "python",
   "nbconvert_exporter": "python",
   "pygments_lexer": "ipython3",
   "version": "3.7.5"
  }
 },
 "nbformat": 4,
 "nbformat_minor": 4
}
